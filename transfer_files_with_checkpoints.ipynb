{
 "cells": [
  {
   "cell_type": "code",
   "execution_count": null,
   "metadata": {
    "collapsed": true
   },
   "outputs": [],
   "source": [
    "## Transferring files with checkpointing"
   ]
  },
  {
   "cell_type": "code",
   "execution_count": null,
   "metadata": {
    "collapsed": true
   },
   "outputs": [],
   "source": [
    "## STEP 1: Create list of unique folders on the destination machine corresponding to the files being transferred\n",
    "\n",
    "# get list of unique folders on source machine\n",
    "!find . -name \"*\" |  awk -F'/' '{for (i=1; i<NF; i++) printf(\"%s/\", $i);print \"\\n\"}' | sort | uniq > unique_dirs.txt\n",
    "\n",
    "# create identical directory structure on the destination machine\n",
    "!cat unique_dirs.txt | xargs mkdir -p"
   ]
  },
  {
   "cell_type": "code",
   "execution_count": null,
   "metadata": {
    "collapsed": true
   },
   "outputs": [],
   "source": [
    "## STEP 2: Get list of all files to be copied from the source machine, also create an initial empty checkpoint file\n",
    "\n",
    "!find . -name \"*\" |  awk -F'/' '{for (i=1; i<NF; i++) printf(\"%s/\", $i);print \"\\n\"} > filelist.txt\n",
    "!touch checkpoint.txt "
   ]
  },
  {
   "cell_type": "code",
   "execution_count": 36,
   "metadata": {
    "collapsed": false
   },
   "outputs": [
    {
     "name": "stdout",
     "output_type": "stream",
     "text": [
      "Overwriting transfer_files.py\n"
     ]
    }
   ],
   "source": [
    "%%writefile transfer_files.py\n",
    "\n",
    "## STEP 3: Copy files over with checkpointing support. \n",
    "## Checkpointing remembers the last file transferred so that a failed transfer can be resumed\n",
    "\n",
    "import sys\n",
    "import subprocess\n",
    "\n",
    "privateKey = sys.argv[1]\n",
    "serverInfo = sys.argv[2]\n",
    "sourceDir = sys.argv[3]\n",
    "\n",
    "print(\"Transferring files using %s and %s. Source dir:%s\" %  (privateKey, serverInfo,sourceDir))\n",
    "\n",
    "fList = open(\"fileslist.txt\")\n",
    "fCheckpoint = open(\"checkpoint.txt\")\n",
    "lastFile = fCheckpoint.read().strip()\n",
    "fCheckpoint.close()\n",
    "\n",
    "checkPointFound = False\n",
    "for file in fList:\n",
    "        \n",
    "    file = file.strip()\n",
    "    \n",
    "    #print \"Last File:%s,len(lastFile):%d\" % (lastFile,len(lastFile))\n",
    "    #print \"File:%s,len(file):%d\" % (file,len(file))\n",
    "\n",
    "    # check to see if we are at directory\n",
    "    fileName = file.split(\"/\")[-1]\n",
    "    if \".\" not in fileName:\n",
    "        print \"Skipping directory:%s\" % file\n",
    "        continue\n",
    "    \n",
    "    if checkPointFound == False:\n",
    "        if lastFile == \"\":\n",
    "            print \"Empty checkpoint file.\"\n",
    "            checkPointFound = True\n",
    "        elif lastFile != file:\n",
    "            print \"Skipping file. Checkpoint not reached\"\n",
    "            continue\n",
    "        else:\n",
    "            print \"Checkpoint reached. Starting to process files\"\n",
    "            checkPointFound = True\n",
    "    \n",
    "    # add file to checkpoint\n",
    "    command = \"scp -i \" + privateKey + \" \" + sourceDir + file + \" \" + serverInfo + file\n",
    "    \n",
    "    # print command\n",
    "    subprocess.call(command,shell=True)\n",
    "    \n",
    "    # add to checkpoint\n",
    "    fCheckpoint = open(\"checkpoint.txt\",\"w\")\n",
    "    fCheckpoint.write(file)\n",
    "    fCheckpoint.close()\n",
    "\n",
    "\n",
    "    "
   ]
  },
  {
   "cell_type": "code",
   "execution_count": null,
   "metadata": {
    "collapsed": true
   },
   "outputs": [],
   "source": []
  }
 ],
 "metadata": {
  "kernelspec": {
   "display_name": "Python 2",
   "language": "python",
   "name": "python2"
  },
  "language_info": {
   "codemirror_mode": {
    "name": "ipython",
    "version": 2
   },
   "file_extension": ".py",
   "mimetype": "text/x-python",
   "name": "python",
   "nbconvert_exporter": "python",
   "pygments_lexer": "ipython2",
   "version": "2.7.12"
  }
 },
 "nbformat": 4,
 "nbformat_minor": 2
}
